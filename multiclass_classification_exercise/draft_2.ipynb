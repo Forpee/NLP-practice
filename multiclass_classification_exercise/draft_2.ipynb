{
  "nbformat": 4,
  "nbformat_minor": 0,
  "metadata": {
    "colab": {
      "name": "draft_2.ipynb",
      "provenance": [],
      "authorship_tag": "ABX9TyMNTJBlj1prhHTsc6WwCsxt",
      "include_colab_link": true
    },
    "kernelspec": {
      "name": "python3",
      "display_name": "Python 3"
    },
    "language_info": {
      "name": "python"
    },
    "accelerator": "GPU",
    "gpuClass": "standard"
  },
  "cells": [
    {
      "cell_type": "markdown",
      "metadata": {
        "id": "view-in-github",
        "colab_type": "text"
      },
      "source": [
        "<a href=\"https://colab.research.google.com/github/Forpee/NLP-practice/blob/master/multiclass_classification_exercise/draft_2.ipynb\" target=\"_parent\"><img src=\"https://colab.research.google.com/assets/colab-badge.svg\" alt=\"Open In Colab\"/></a>"
      ]
    },
    {
      "cell_type": "markdown",
      "source": [
        "#Freestyle\n"
      ],
      "metadata": {
        "id": "QDphfmnP8o7N"
      }
    },
    {
      "cell_type": "markdown",
      "source": [
        "#Imports"
      ],
      "metadata": {
        "id": "OOdMlwhN3Mpw"
      }
    },
    {
      "cell_type": "code",
      "source": [
        "import tensorflow as tf\n",
        "import os\n",
        "\n",
        "from tensorflow.keras import layers\n"
      ],
      "metadata": {
        "id": "HAfG_zWP9FXf"
      },
      "execution_count": 1,
      "outputs": []
    },
    {
      "cell_type": "markdown",
      "source": [
        "##Check for GPU"
      ],
      "metadata": {
        "id": "AX2agpQ9tXtn"
      }
    },
    {
      "cell_type": "code",
      "source": [
        "!nvidia-smi -L"
      ],
      "metadata": {
        "id": "Ph8ABZc8rsAP",
        "outputId": "2d201055-c2f2-4e28-8d7c-4c113932b267",
        "colab": {
          "base_uri": "https://localhost:8080/"
        }
      },
      "execution_count": 2,
      "outputs": [
        {
          "output_type": "stream",
          "name": "stdout",
          "text": [
            "GPU 0: Tesla T4 (UUID: GPU-86216e12-3186-76b9-9f42-f25af531bf32)\n"
          ]
        }
      ]
    },
    {
      "cell_type": "markdown",
      "source": [
        "#download dataset"
      ],
      "metadata": {
        "id": "l6PL_HfKteKi"
      }
    },
    {
      "cell_type": "code",
      "source": [
        "data_url = 'https://storage.googleapis.com/download.tensorflow.org/data/stack_overflow_16k.tar.gz'\n",
        "\n",
        "path = tf.keras.utils.get_file(\n",
        "    fname='stackoverflow_questions',\n",
        "    origin=data_url,\n",
        "    untar=True\n",
        ")\n"
      ],
      "metadata": {
        "id": "mbrxZdzf8ihH"
      },
      "execution_count": 3,
      "outputs": []
    },
    {
      "cell_type": "code",
      "source": [
        "dirname=os.path.dirname(path)\n",
        "dirname"
      ],
      "metadata": {
        "colab": {
          "base_uri": "https://localhost:8080/",
          "height": 35
        },
        "id": "Gt4NSIrfIGIf",
        "outputId": "119f5ef3-7774-4611-bb3b-8c8f5fe7fa31"
      },
      "execution_count": 4,
      "outputs": [
        {
          "output_type": "execute_result",
          "data": {
            "text/plain": [
              "'/root/.keras/datasets'"
            ],
            "application/vnd.google.colaboratory.intrinsic+json": {
              "type": "string"
            }
          },
          "metadata": {},
          "execution_count": 4
        }
      ]
    },
    {
      "cell_type": "code",
      "source": [
        "os.listdir(dirname)"
      ],
      "metadata": {
        "id": "IJyxcvjpKkT8",
        "outputId": "b0ac243f-5397-4541-b9a1-0f6015b54999",
        "colab": {
          "base_uri": "https://localhost:8080/"
        }
      },
      "execution_count": 5,
      "outputs": [
        {
          "output_type": "execute_result",
          "data": {
            "text/plain": [
              "['test', 'README.md', 'train', 'stackoverflow_questions.tar.gz']"
            ]
          },
          "metadata": {},
          "execution_count": 5
        }
      ]
    },
    {
      "cell_type": "code",
      "source": [
        "train_dirname=os.path.join(dirname,'train')\n",
        "train_dirname"
      ],
      "metadata": {
        "id": "BHEPXXkns1DW",
        "outputId": "ee3e4282-a8d7-4874-df99-626f6169a300",
        "colab": {
          "base_uri": "https://localhost:8080/",
          "height": 35
        }
      },
      "execution_count": 6,
      "outputs": [
        {
          "output_type": "execute_result",
          "data": {
            "text/plain": [
              "'/root/.keras/datasets/train'"
            ],
            "application/vnd.google.colaboratory.intrinsic+json": {
              "type": "string"
            }
          },
          "metadata": {},
          "execution_count": 6
        }
      ]
    },
    {
      "cell_type": "code",
      "source": [
        "test_dirname=os.path.join(dirname,'test')\n",
        "test_dirname"
      ],
      "metadata": {
        "id": "thFDTAqfu-cW",
        "outputId": "e6f6f63f-11e4-4d57-9feb-eda7feab5107",
        "colab": {
          "base_uri": "https://localhost:8080/",
          "height": 35
        }
      },
      "execution_count": 7,
      "outputs": [
        {
          "output_type": "execute_result",
          "data": {
            "text/plain": [
              "'/root/.keras/datasets/test'"
            ],
            "application/vnd.google.colaboratory.intrinsic+json": {
              "type": "string"
            }
          },
          "metadata": {},
          "execution_count": 7
        }
      ]
    },
    {
      "cell_type": "markdown",
      "source": [
        "#create dataset"
      ],
      "metadata": {
        "id": "2doLowkvtnSV"
      }
    },
    {
      "cell_type": "code",
      "source": [
        "seed=42\n",
        "\n",
        "train_ds=tf.keras.utils.text_dataset_from_directory(train_dirname,\n",
        "                                                    validation_split=0.2,\n",
        "                                                    subset='training',\n",
        "                                                    seed=seed)"
      ],
      "metadata": {
        "id": "CDl0rHMesJJg",
        "outputId": "843b6b4b-0109-44e1-f21b-d3811bf2ff83",
        "colab": {
          "base_uri": "https://localhost:8080/"
        }
      },
      "execution_count": 8,
      "outputs": [
        {
          "output_type": "stream",
          "name": "stdout",
          "text": [
            "Found 8000 files belonging to 4 classes.\n",
            "Using 6400 files for training.\n"
          ]
        }
      ]
    },
    {
      "cell_type": "code",
      "source": [
        "val_ds=tf.keras.utils.text_dataset_from_directory(train_dirname,\n",
        "                                                    validation_split=0.2,\n",
        "                                                    subset='validation',\n",
        "                                                    seed=seed)"
      ],
      "metadata": {
        "id": "OfoKB30ctP_D",
        "outputId": "d47c188a-7ed2-44d0-fa38-50fc7ac4a9b7",
        "colab": {
          "base_uri": "https://localhost:8080/"
        }
      },
      "execution_count": 9,
      "outputs": [
        {
          "output_type": "stream",
          "name": "stdout",
          "text": [
            "Found 8000 files belonging to 4 classes.\n",
            "Using 1600 files for validation.\n"
          ]
        }
      ]
    },
    {
      "cell_type": "code",
      "source": [
        "test_ds=tf.keras.utils.text_dataset_from_directory(test_dirname)"
      ],
      "metadata": {
        "id": "gyIbtxA7u8il",
        "outputId": "54d7fb2f-e908-48d9-93fa-6ef0f22d55c7",
        "colab": {
          "base_uri": "https://localhost:8080/"
        }
      },
      "execution_count": 10,
      "outputs": [
        {
          "output_type": "stream",
          "name": "stdout",
          "text": [
            "Found 8000 files belonging to 4 classes.\n"
          ]
        }
      ]
    },
    {
      "cell_type": "markdown",
      "source": [
        "#encoder"
      ],
      "metadata": {
        "id": "tnvCftUQxHC7"
      }
    },
    {
      "cell_type": "code",
      "source": [
        "text_vectorizer=tf.keras.layers.TextVectorization(\n",
        "    max_tokens=10000,\n",
        "    output_mode='int',\n",
        "    output_sequence_length=250\n",
        ")\n",
        "\n",
        "train_text=train_ds.map(lambda text, labels: text)\n",
        "\n",
        "text_vectorizer.adapt(train_text)\n"
      ],
      "metadata": {
        "id": "Mkd6CV-5vJ5p"
      },
      "execution_count": 11,
      "outputs": []
    },
    {
      "cell_type": "markdown",
      "source": [
        "#perfomance"
      ],
      "metadata": {
        "id": "HljTLvqVzbJZ"
      }
    },
    {
      "cell_type": "code",
      "source": [
        "AUTOTUNE = tf.data.AUTOTUNE\n",
        "\n",
        "train_ds = train_ds.cache().prefetch(buffer_size=AUTOTUNE)\n",
        "val_ds = val_ds.cache().prefetch(buffer_size=AUTOTUNE)\n",
        "test_ds = test_ds.cache().prefetch(buffer_size=AUTOTUNE)"
      ],
      "metadata": {
        "id": "aFgZzKCozc9e"
      },
      "execution_count": 12,
      "outputs": []
    },
    {
      "cell_type": "markdown",
      "source": [
        "#embeddings\n"
      ],
      "metadata": {
        "id": "wc4Nn2oRxJiE"
      }
    },
    {
      "cell_type": "code",
      "source": [
        "embedding=layers.Embedding(input_dim=10001, output_dim=64)"
      ],
      "metadata": {
        "id": "zgfudcN1weig"
      },
      "execution_count": 13,
      "outputs": []
    },
    {
      "cell_type": "markdown",
      "source": [
        "##sequential model first"
      ],
      "metadata": {
        "id": "CovnOgAVx7OJ"
      }
    },
    {
      "cell_type": "code",
      "source": [
        "num_classes=4\n",
        "\n",
        "seq_model=tf.keras.Sequential([\n",
        "    text_vectorizer,\n",
        "    embedding,\n",
        "  layers.Conv1D(64, 5, padding=\"valid\", activation=\"relu\", strides=2),\n",
        "      layers.GlobalMaxPooling1D(),\n",
        "    # layers.Dense(64, activation='relu'),\n",
        "    layers.Dense(num_classes, activation='softmax')\n",
        "])"
      ],
      "metadata": {
        "id": "pbQualIKyHE_"
      },
      "execution_count": 29,
      "outputs": []
    },
    {
      "cell_type": "markdown",
      "source": [
        "#compile model"
      ],
      "metadata": {
        "id": "ah9-64EFyLtz"
      }
    },
    {
      "cell_type": "code",
      "source": [
        "seq_model.compile(loss=tf.keras.losses.SparseCategoricalCrossentropy(),\n",
        "                  optimizer='adam',\n",
        "                  metrics=['accuracy'])"
      ],
      "metadata": {
        "id": "hWqMH-Upyt3j"
      },
      "execution_count": 30,
      "outputs": []
    },
    {
      "cell_type": "code",
      "source": [
        "history_0=seq_model.fit(train_ds,\n",
        "                    epochs=10,\n",
        "                    validation_data=val_ds)"
      ],
      "metadata": {
        "id": "78GiA2kvzHLg",
        "outputId": "a9a6d3ec-047b-4559-a8d0-a7b41bef6969",
        "colab": {
          "base_uri": "https://localhost:8080/"
        }
      },
      "execution_count": 31,
      "outputs": [
        {
          "output_type": "stream",
          "name": "stdout",
          "text": [
            "Epoch 1/10\n",
            "200/200 [==============================] - 9s 8ms/step - loss: 0.7646 - accuracy: 0.6955 - val_loss: 0.6364 - val_accuracy: 0.7337\n",
            "Epoch 2/10\n",
            "200/200 [==============================] - 2s 8ms/step - loss: 0.4953 - accuracy: 0.8080 - val_loss: 0.5710 - val_accuracy: 0.7763\n",
            "Epoch 3/10\n",
            "200/200 [==============================] - 1s 7ms/step - loss: 0.3572 - accuracy: 0.8722 - val_loss: 0.5421 - val_accuracy: 0.7950\n",
            "Epoch 4/10\n",
            "200/200 [==============================] - 1s 7ms/step - loss: 0.2520 - accuracy: 0.9230 - val_loss: 0.5395 - val_accuracy: 0.8019\n",
            "Epoch 5/10\n",
            "200/200 [==============================] - 1s 7ms/step - loss: 0.1688 - accuracy: 0.9580 - val_loss: 0.5549 - val_accuracy: 0.8006\n",
            "Epoch 6/10\n",
            "200/200 [==============================] - 1s 7ms/step - loss: 0.1060 - accuracy: 0.9791 - val_loss: 0.5809 - val_accuracy: 0.8012\n",
            "Epoch 7/10\n",
            "200/200 [==============================] - 2s 8ms/step - loss: 0.0629 - accuracy: 0.9909 - val_loss: 0.6127 - val_accuracy: 0.8000\n",
            "Epoch 8/10\n",
            "200/200 [==============================] - 1s 7ms/step - loss: 0.0371 - accuracy: 0.9969 - val_loss: 0.6454 - val_accuracy: 0.7956\n",
            "Epoch 9/10\n",
            "200/200 [==============================] - 2s 8ms/step - loss: 0.0223 - accuracy: 0.9991 - val_loss: 0.6698 - val_accuracy: 0.7987\n",
            "Epoch 10/10\n",
            "200/200 [==============================] - 2s 8ms/step - loss: 0.0137 - accuracy: 0.9997 - val_loss: 0.6928 - val_accuracy: 0.8000\n"
          ]
        }
      ]
    }
  ]
}